{
 "cells": [
  {
   "cell_type": "code",
   "execution_count": 6,
   "metadata": {},
   "outputs": [
    {
     "name": "stdout",
     "output_type": "stream",
     "text": [
      "x ==>\n",
      " tensor(3) \n",
      "\n",
      "y ==>\n",
      " tensor(2) \n",
      "\n",
      "x+y ==>\n",
      " tensor(5) \n",
      "\n",
      "x-y ==>\n",
      " tensor(1) \n",
      "\n",
      "x*y ==>\n",
      " tensor(6) \n",
      "\n",
      "x/y ==>\n",
      " tensor(1.5000) \n",
      "\n",
      "x**y ==>\n",
      " tensor(9) \n",
      "\n"
     ]
    }
   ],
   "source": [
    "import torch\n",
    "\n",
    "#2.3.1\n",
    "\n",
    "x=torch.tensor(3)\n",
    "y=torch.tensor(2)\n",
    "\n",
    "print(\"x ==>\\n\",x,\"\\n\")\n",
    "print(\"y ==>\\n\",y,\"\\n\")\n",
    "print(\"x+y ==>\\n\",x+y,\"\\n\")\n",
    "print(\"x-y ==>\\n\",x-y,\"\\n\")\n",
    "print(\"x*y ==>\\n\",x*y,\"\\n\")\n",
    "print(\"x/y ==>\\n\",x/y,\"\\n\")\n",
    "print(\"x**y ==>\\n\",x**y,\"\\n\")\n"
   ]
  },
  {
   "cell_type": "code",
   "execution_count": 7,
   "metadata": {},
   "outputs": [
    {
     "name": "stdout",
     "output_type": "stream",
     "text": [
      "x ==>\n",
      " tensor([0, 1, 2, 3]) \n",
      "\n",
      "x ==>\n",
      " tensor([2, 3, 4]) \n",
      "\n",
      "x[2] ==>\n",
      " tensor(4) \n",
      "\n",
      "len(x) ==>\n",
      " 3 \n",
      "\n",
      "x.shape ==>\n",
      " torch.Size([3]) \n",
      "\n"
     ]
    }
   ],
   "source": [
    "#2.3.2\n",
    "\n",
    "x=torch.arange(4)\n",
    "print(\"x ==>\\n\",x,\"\\n\")\n",
    "\n",
    "x=torch.arange(2,5)\n",
    "print(\"x ==>\\n\",x,\"\\n\")\n",
    "\n",
    "print(\"x[2] ==>\\n\",x[2],\"\\n\")\n",
    "print(\"len(x) ==>\\n\",len(x),\"\\n\")\n",
    "print(\"x.shape ==>\\n\",x.shape,\"\\n\")\n"
   ]
  },
  {
   "cell_type": "code",
   "execution_count": 8,
   "metadata": {},
   "outputs": [
    {
     "name": "stdout",
     "output_type": "stream",
     "text": [
      "x ==>\n",
      " tensor([[ 0,  1,  2,  3],\n",
      "        [ 4,  5,  6,  7],\n",
      "        [ 8,  9, 10, 11],\n",
      "        [12, 13, 14, 15],\n",
      "        [16, 17, 18, 19]]) \n",
      "\n",
      "x的轉置矩陣 ==>\n",
      " tensor([[ 0,  4,  8, 12, 16],\n",
      "        [ 1,  5,  9, 13, 17],\n",
      "        [ 2,  6, 10, 14, 18],\n",
      "        [ 3,  7, 11, 15, 19]]) \n",
      "\n",
      "x ==>\n",
      " tensor([[ 1,  2,  3],\n",
      "        [ 2,  4, 14],\n",
      "        [ 3,  2,  1]]) \n",
      "\n",
      "x==x.T ==>\n",
      " tensor([[ True,  True,  True],\n",
      "        [ True,  True, False],\n",
      "        [ True, False,  True]]) \n",
      "\n"
     ]
    }
   ],
   "source": [
    "#2.3.3\n",
    "\n",
    "x = torch.arange(20).reshape(5, 4)\n",
    "print(\"x ==>\\n\",x,\"\\n\")\n",
    "\n",
    "print(\"x的轉置矩陣 ==>\\n\",x.T,\"\\n\") #轉置\n",
    "\n",
    "\n",
    "x=torch.tensor([[1,2,3],[2,4,14],[3,2,1]])\n",
    "print(\"x ==>\\n\",x,\"\\n\")\n",
    "\n",
    "print(\"x==x.T ==>\\n\",x==x.T,\"\\n\") #維度要一樣才可以比較"
   ]
  },
  {
   "cell_type": "code",
   "execution_count": 9,
   "metadata": {},
   "outputs": [
    {
     "name": "stdout",
     "output_type": "stream",
     "text": [
      "x ==>\n",
      " tensor([[[ 3,  4,  5,  6],\n",
      "         [ 7,  8,  9, 10],\n",
      "         [11, 12, 13, 14]],\n",
      "\n",
      "        [[15, 16, 17, 18],\n",
      "         [19, 20, 21, 22],\n",
      "         [23, 24, 25, 26]]]) \n",
      "\n"
     ]
    }
   ],
   "source": [
    "#2.3.4\n",
    "\n",
    "x = torch.arange(3,27).reshape(2, 3, 4)\n",
    "print(\"x ==>\\n\",x,\"\\n\")"
   ]
  },
  {
   "cell_type": "code",
   "execution_count": 10,
   "metadata": {},
   "outputs": [
    {
     "name": "stdout",
     "output_type": "stream",
     "text": [
      "A ==>\n",
      " tensor([[ 0.,  1.,  2.,  3.],\n",
      "        [ 4.,  5.,  6.,  7.],\n",
      "        [ 8.,  9., 10., 11.],\n",
      "        [12., 13., 14., 15.],\n",
      "        [16., 17., 18., 19.]]) \n",
      "\n",
      "B ==>\n",
      " tensor([[ 0.,  1.,  2.,  3.],\n",
      "        [ 4.,  5.,  6.,  7.],\n",
      "        [ 8.,  9., 10., 11.],\n",
      "        [12., 13., 14., 15.],\n",
      "        [16., 17., 18., 19.]]) \n",
      "\n",
      "A+B ==>\n",
      " tensor([[ 0.,  2.,  4.,  6.],\n",
      "        [ 8., 10., 12., 14.],\n",
      "        [16., 18., 20., 22.],\n",
      "        [24., 26., 28., 30.],\n",
      "        [32., 34., 36., 38.]]) \n",
      "\n",
      "A*B ==>\n",
      " tensor([[  0.,   1.,   4.,   9.],\n",
      "        [ 16.,  25.,  36.,  49.],\n",
      "        [ 64.,  81., 100., 121.],\n",
      "        [144., 169., 196., 225.],\n",
      "        [256., 289., 324., 361.]]) \n",
      "\n",
      "a ==>\n",
      " 2 \n",
      "\n",
      "X ==>\n",
      " tensor([[[ 0,  1,  2,  3],\n",
      "         [ 4,  5,  6,  7],\n",
      "         [ 8,  9, 10, 11]],\n",
      "\n",
      "        [[12, 13, 14, 15],\n",
      "         [16, 17, 18, 19],\n",
      "         [20, 21, 22, 23]]]) \n",
      "\n",
      "a+X ==>\n",
      " tensor([[[ 2,  3,  4,  5],\n",
      "         [ 6,  7,  8,  9],\n",
      "         [10, 11, 12, 13]],\n",
      "\n",
      "        [[14, 15, 16, 17],\n",
      "         [18, 19, 20, 21],\n",
      "         [22, 23, 24, 25]]]) \n",
      "\n",
      "a*X ==>\n",
      " tensor([[[ 0,  2,  4,  6],\n",
      "         [ 8, 10, 12, 14],\n",
      "         [16, 18, 20, 22]],\n",
      "\n",
      "        [[24, 26, 28, 30],\n",
      "         [32, 34, 36, 38],\n",
      "         [40, 42, 44, 46]]]) \n",
      "\n",
      "(a*X).shape ==>\n",
      " torch.Size([2, 3, 4]) \n",
      "\n",
      "X.sum() ==>\n",
      " tensor(276) \n",
      "\n",
      "X.sum(axis=[0,1]) ==>\n",
      " tensor([60, 66, 72, 78]) \n",
      "\n",
      "X.sum(axis=0) ==>\n",
      " tensor([[12, 14, 16, 18],\n",
      "        [20, 22, 24, 26],\n",
      "        [28, 30, 32, 34]]) \n",
      "\n",
      "X.sum(axis=1) ==>\n",
      " tensor([[12, 15, 18, 21],\n",
      "        [48, 51, 54, 57]]) \n",
      "\n",
      "X.sum(axis=2) ==>\n",
      " tensor([[ 6, 22, 38],\n",
      "        [54, 70, 86]]) \n",
      "\n",
      "X.sum()/X.numel() ==>\n",
      " tensor(11.5000) \n",
      "\n",
      "X.shape[0] ==>\n",
      " 2 \n",
      "\n"
     ]
    }
   ],
   "source": [
    "#2.3.5\n",
    "\n",
    "A = torch.arange(20, dtype=torch.float32).reshape(5, 4)\n",
    "B = A.clone()  # Assign a copy of `A` to `B` by allocating new memory\n",
    "\n",
    "print(\"A ==>\\n\",A,\"\\n\")\n",
    "print(\"B ==>\\n\",B,\"\\n\")\n",
    "print(\"A+B ==>\\n\",A+B,\"\\n\")\n",
    "print(\"A*B ==>\\n\",A*B,\"\\n\")\n",
    "\n",
    "a = 2\n",
    "X = torch.arange(24).reshape(2, 3, 4)\n",
    "print(\"a ==>\\n\",a,\"\\n\")\n",
    "print(\"X ==>\\n\",X,\"\\n\")\n",
    "print(\"a+X ==>\\n\",a+X,\"\\n\")\n",
    "print(\"a*X ==>\\n\",a*X,\"\\n\")\n",
    "print(\"(a*X).shape ==>\\n\",(a*X).shape,\"\\n\")\n",
    "print(\"X.sum() ==>\\n\",X.sum(),\"\\n\")\n",
    "print(\"X.sum(axis=[0,1]) ==>\\n\",X.sum(axis=[0,1]),\"\\n\")\n",
    "print(\"X.sum(axis=0) ==>\\n\",X.sum(axis=0),\"\\n\")\n",
    "print(\"X.sum(axis=1) ==>\\n\",X.sum(axis=1),\"\\n\")\n",
    "print(\"X.sum(axis=2) ==>\\n\",X.sum(axis=2),\"\\n\")\n",
    "print(\"X.sum()/X.numel() ==>\\n\",X.sum() / X.numel(),\"\\n\")\n",
    "print(\"X.shape[0] ==>\\n\",X.shape[0],\"\\n\")\n"
   ]
  }
 ],
 "metadata": {
  "kernelspec": {
   "display_name": "Python 3",
   "language": "python",
   "name": "python3"
  },
  "language_info": {
   "codemirror_mode": {
    "name": "ipython",
    "version": 3
   },
   "file_extension": ".py",
   "mimetype": "text/x-python",
   "name": "python",
   "nbconvert_exporter": "python",
   "pygments_lexer": "ipython3",
   "version": "3.8.3"
  }
 },
 "nbformat": 4,
 "nbformat_minor": 4
}
