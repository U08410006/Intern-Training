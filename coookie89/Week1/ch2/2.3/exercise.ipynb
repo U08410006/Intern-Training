{
 "cells": [
  {
   "cell_type": "code",
   "execution_count": 6,
   "metadata": {},
   "outputs": [
    {
     "data": {
      "text/plain": [
       "tensor([[True, True, True, True],\n",
       "        [True, True, True, True],\n",
       "        [True, True, True, True]])"
      ]
     },
     "execution_count": 6,
     "metadata": {},
     "output_type": "execute_result"
    }
   ],
   "source": [
    "import torch\n",
    "\n",
    "#1. Prove that the transpose of a matrix A's transpose is A: (A^T)^T==A \n",
    "A=torch.arange(12).reshape([3,4])\n",
    "A.T.T==A"
   ]
  },
  {
   "cell_type": "code",
   "execution_count": 9,
   "metadata": {},
   "outputs": [
    {
     "data": {
      "text/plain": [
       "tensor([[True, True, True],\n",
       "        [True, True, True],\n",
       "        [True, True, True],\n",
       "        [True, True, True]])"
      ]
     },
     "execution_count": 9,
     "metadata": {},
     "output_type": "execute_result"
    }
   ],
   "source": [
    "#2. Given two matrices A and B, show that the sum of transposes is equal to the transpose of a sum: A^T+B^T=(A+B)^T\n",
    "B=torch.arange(5,17).reshape([3,4])\n",
    "(A+B).T==A.T+B.T"
   ]
  },
  {
   "cell_type": "code",
   "execution_count": 16,
   "metadata": {},
   "outputs": [
    {
     "data": {
      "text/plain": [
       "tensor([[True, True, True],\n",
       "        [True, True, True],\n",
       "        [True, True, True]])"
      ]
     },
     "execution_count": 16,
     "metadata": {},
     "output_type": "execute_result"
    }
   ],
   "source": [
    "#3. Given any square matrix A, is A+A^T always symmetric? Why?\n",
    "A=torch.arange(9).reshape([3,3])\n",
    "A+A.T==(A+A.T).T\n",
    "print(\"yes, 因為transpose後相加的兩數都一樣\")"
   ]
  },
  {
   "cell_type": "code",
   "execution_count": 19,
   "metadata": {},
   "outputs": [
    {
     "data": {
      "text/plain": [
       "2"
      ]
     },
     "execution_count": 19,
     "metadata": {},
     "output_type": "execute_result"
    }
   ],
   "source": [
    "#4. We defined the tensor X of shape (2, 3, 4) in this section. What is the output of len(X)?\n",
    "X=torch.arange(24).reshape(2,3,4)\n",
    "len(X)"
   ]
  },
  {
   "cell_type": "code",
   "execution_count": 20,
   "metadata": {},
   "outputs": [
    {
     "name": "stdout",
     "output_type": "stream",
     "text": [
      "len()取的是第一個dimension\n"
     ]
    }
   ],
   "source": [
    "#5. For a tensor X of arbitrary shape, does len(X) always correspond to the length of a certain axis of X? What is that axis?\n",
    "print(\"len()取的是第一個dimension\")"
   ]
  },
  {
   "cell_type": "code",
   "execution_count": 33,
   "metadata": {},
   "outputs": [
    {
     "name": "stdout",
     "output_type": "stream",
     "text": [
      "A==>\n",
      " tensor([[ 0,  1,  2,  3],\n",
      "        [ 4,  5,  6,  7],\n",
      "        [ 8,  9, 10, 11],\n",
      "        [12, 13, 14, 15],\n",
      "        [16, 17, 18, 19]])\n",
      "\n",
      "A.sum(axis=1)==>\n",
      " tensor([ 6, 22, 38, 54, 70])\n",
      "因為sum(axis=1)是把row的值加在一起,會產生1*5的matrix,沒辦法跟A(5*4)做除法\n",
      "\n",
      "A==>\n",
      " tensor([[ 0,  1,  2,  3],\n",
      "        [ 4,  5,  6,  7],\n",
      "        [ 8,  9, 10, 11],\n",
      "        [12, 13, 14, 15],\n",
      "        [16, 17, 18, 19]])\n",
      "\n",
      "A.sum(axis=1)==>\n",
      " tensor([40, 45, 50, 55])\n",
      "\n",
      "A / A.sum(axis=1)==>\n",
      " tensor([[0.0000, 0.0222, 0.0400, 0.0545],\n",
      "        [0.1000, 0.1111, 0.1200, 0.1273],\n",
      "        [0.2000, 0.2000, 0.2000, 0.2000],\n",
      "        [0.3000, 0.2889, 0.2800, 0.2727],\n",
      "        [0.4000, 0.3778, 0.3600, 0.3455]])\n",
      "\n",
      "如果改成sum(axis=0),把column的值加在一起,會產生1*4的matrix,就沒有問題了！\n"
     ]
    }
   ],
   "source": [
    "#6. Run A / A.sum(axis=1) and see what happens. Can you analyze the reason?\n",
    "A=torch.arange(20).reshape(5,4)\n",
    "print(\"A==>\\n\",A)\n",
    "print(\"\\nA.sum(axis=1)==>\\n\",A.sum(axis=1))\n",
    "#print(\"\\nA / A.sum(axis=1)==>\\n\",A / A.sum(axis=1))\n",
    "\n",
    "print(\"因為sum(axis=1)是把row的值加在一起,會產生1*5的matrix,沒辦法跟A(5*4)做除法\")\n",
    "\n",
    "print(\"\\nA==>\\n\",A)\n",
    "print(\"\\nA.sum(axis=1)==>\\n\",A.sum(axis=0))\n",
    "print(\"\\nA / A.sum(axis=1)==>\\n\",A / A.sum(axis=0))\n",
    "\n",
    "print(\"\\n如果改成sum(axis=0),把column的值加在一起,會產生1*4的matrix,就沒有問題了！\")\n"
   ]
  },
  {
   "cell_type": "markdown",
   "metadata": {},
   "source": [
    "8. Consider a tensor with shape (2, 3, 4). What are the shapes of the summation outputs along axis 0, 1, and 2?\n",
    "print(\"X==>\\n\",X)\n",
    "print(\"\\nX.sum(axis=0)==>\\n\",X.sum(axis=0))\n",
    "print(\"\\nX.sum(axis=1)==>\\n\",X.sum(axis=1))\n",
    "print(\"\\nX.sum(axis=2)==>\\n\",X.sum(axis=2))"
   ]
  },
  {
   "cell_type": "code",
   "execution_count": 36,
   "metadata": {},
   "outputs": [
    {
     "name": "stdout",
     "output_type": "stream",
     "text": [
      "X==>\n",
      " tensor([[[ 0,  1,  2,  3],\n",
      "         [ 4,  5,  6,  7],\n",
      "         [ 8,  9, 10, 11]],\n",
      "\n",
      "        [[12, 13, 14, 15],\n",
      "         [16, 17, 18, 19],\n",
      "         [20, 21, 22, 23]]])\n",
      "\n",
      "X.sum(axis=0)==>\n",
      " tensor([[12, 14, 16, 18],\n",
      "        [20, 22, 24, 26],\n",
      "        [28, 30, 32, 34]])\n",
      "\n",
      "X.sum(axis=1)==>\n",
      " tensor([[12, 15, 18, 21],\n",
      "        [48, 51, 54, 57]])\n",
      "\n",
      "X.sum(axis=2)==>\n",
      " tensor([[ 6, 22, 38],\n",
      "        [54, 70, 86]])\n"
     ]
    }
   ],
   "source": [
    "#8. Consider a tensor with shape (2, 3, 4). What are the shapes of the summation outputs along axis 0, 1, and 2?\n",
    "print(\"X==>\\n\",X) \n",
    "print(\"\\nX.sum(axis=0)==>\\n\",X.sum(axis=0))\n",
    "print(\"\\nX.sum(axis=1)==>\\n\",X.sum(axis=1))\n",
    "print(\"\\nX.sum(axis=2)==>\\n\",X.sum(axis=2))"
   ]
  },
  {
   "cell_type": "code",
   "execution_count": 40,
   "metadata": {},
   "outputs": [
    {
     "name": "stdout",
     "output_type": "stream",
     "text": [
      "tensor(65.7571)\n",
      "65.75712889109438\n",
      "對matrix中每個element平方加起來再開根號\n"
     ]
    }
   ],
   "source": [
    "#9. Feed a tensor with 3 or more axes to the linalg.norm function and observe its output. What does this function compute for tensors of arbitrary shape?\n",
    "Y= torch.arange(24,dtype = torch.float32).reshape(2, 3, 4)\n",
    "print(torch.norm(Y))\n",
    "\n",
    "i = 0\n",
    "for j in range(0,24):\n",
    "    i += j**2\n",
    "\n",
    "import math\n",
    "print(math.sqrt(i))\n",
    "print(\"對matrix中每個element平方加起來再開根號\")"
   ]
  },
  {
   "cell_type": "code",
   "execution_count": null,
   "metadata": {},
   "outputs": [],
   "source": []
  }
 ],
 "metadata": {
  "kernelspec": {
   "display_name": "Python 3",
   "language": "python",
   "name": "python3"
  },
  "language_info": {
   "codemirror_mode": {
    "name": "ipython",
    "version": 3
   },
   "file_extension": ".py",
   "mimetype": "text/x-python",
   "name": "python",
   "nbconvert_exporter": "python",
   "pygments_lexer": "ipython3",
   "version": "3.8.3"
  }
 },
 "nbformat": 4,
 "nbformat_minor": 4
}
