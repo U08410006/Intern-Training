{
 "cells": [
  {
   "cell_type": "code",
   "execution_count": 13,
   "metadata": {},
   "outputs": [
    {
     "name": "stdout",
     "output_type": "stream",
     "text": [
      "x ==>\n",
      " tensor([0., 1., 2., 3.]) \n",
      "\n",
      "y ==>\n",
      " tensor(28., grad_fn=<MulBackward0>) \n",
      "\n",
      "x.grad ==>\n",
      " tensor([ 0.,  4.,  8., 12.]) \n",
      "\n",
      "x.grad==4*x ==>\n",
      " tensor([True, True, True, True]) \n",
      "\n",
      "沒歸零前的x.grad ==>\n",
      " tensor([ 0.,  4.,  8., 12.]) \n",
      "\n",
      "歸零後的x.grad ==>\n",
      " tensor([0., 0., 0., 0.]) \n",
      "\n",
      "x ==>\n",
      " tensor([0., 1., 2., 3.], requires_grad=True) \n",
      "\n",
      "y ==>\n",
      " tensor(6., grad_fn=<SumBackward0>) \n",
      "\n",
      "x.grad ==>\n",
      " tensor([1., 1., 1., 1.]) \n",
      "\n"
     ]
    }
   ],
   "source": [
    "#2.5 Automatic Differentiation\n",
    "\n",
    "import torch\n",
    "\n",
    "#2.5.1 A Simple Example\n",
    "\n",
    "#對 y=2*x^T*x 做微分\n",
    "\n",
    "x = torch.arange(4.0) #浮點數的tensor才能require gradients\n",
    "print(\"x ==>\\n\",x,\"\\n\")\n",
    "\n",
    "x.requires_grad_(True)  # Same as `x = torch.arange(4.0, requires_grad=True)`\n",
    "x.grad  # The default value is None\n",
    "\n",
    "y = 2 * torch.dot(x, x) #torch.dot(a,b)==> a跟b的內積(a跟b必須為1D)\n",
    "print(\"y ==>\\n\",y,\"\\n\")\n",
    "\n",
    "y.backward() #自動計算y的梯度(backpropagation)\n",
    "print(\"x.grad ==>\\n\",x.grad,\"\\n\") #印出梯度\n",
    "\n",
    "print(\"x.grad==4*x ==>\\n\",x.grad==4*x,\"\\n\")\n",
    "\n",
    "# PyTorch accumulates the gradient in default, we need to clear the previous values\n",
    "\n",
    "print(\"沒歸零前的x.grad ==>\\n\",x.grad,\"\\n\")\n",
    "\n",
    "x.grad.zero_() #把x.grad歸零\n",
    "print(\"歸零後的x.grad ==>\\n\",x.grad,\"\\n\")\n",
    "\n",
    "print(\"x ==>\\n\",x,\"\\n\")\n",
    "y = x.sum()\n",
    "y.backward()\n",
    "print(\"y ==>\\n\",y,\"\\n\")\n",
    "print(\"x.grad ==>\\n\",x.grad,\"\\n\")"
   ]
  },
  {
   "cell_type": "code",
   "execution_count": 14,
   "metadata": {},
   "outputs": [
    {
     "name": "stdout",
     "output_type": "stream",
     "text": [
      "x.grad ==>\n",
      " tensor([0., 2., 4., 6.]) \n",
      "\n"
     ]
    }
   ],
   "source": [
    "#2.5.2 Backward for Non-Scalar Variables\n",
    "\n",
    "\n",
    "# Invoking `backward` on a non-scalar requires passing in a `gradient` argument\n",
    "# which specifies the gradient of the differentiated function w.r.t `self`.\n",
    "# In our case, we simply want to sum the partial derivatives, so passing in a gradient of ones is appropriate.\n",
    "\n",
    "x.grad.zero_()\n",
    "y = x * x\n",
    "# y.backward(torch.ones(len(x))) equivalent to the below\n",
    "y.sum().backward()\n",
    "print(\"x.grad ==>\\n\",x.grad,\"\\n\")\n"
   ]
  },
  {
   "cell_type": "code",
   "execution_count": 15,
   "metadata": {},
   "outputs": [
    {
     "name": "stdout",
     "output_type": "stream",
     "text": [
      "x ==>\n",
      " tensor([0., 1., 2., 3.], requires_grad=True) \n",
      "\n",
      "y ==>\n",
      " tensor([0., 1., 4., 9.], grad_fn=<MulBackward0>) \n",
      "\n",
      "u ==>\n",
      " tensor([0., 1., 4., 9.]) \n",
      "\n",
      "z ==>\n",
      " tensor([ 0.,  1.,  8., 27.], grad_fn=<MulBackward0>) \n",
      "\n",
      "x.grad ==>\n",
      " tensor([0., 1., 4., 9.]) \n",
      "\n",
      "x.grad==u ==>\n",
      " tensor([True, True, True, True]) \n",
      "\n"
     ]
    }
   ],
   "source": [
    "#2.5.3 Detaching Computation\n",
    "\n",
    "\n",
    "x.grad.zero_()\n",
    "print(\"x ==>\\n\",x,\"\\n\")\n",
    "\n",
    "y = x * x\n",
    "print(\"y ==>\\n\",y,\"\\n\")\n",
    "\n",
    "u = y.detach() #切斷y的backpropagation\n",
    "print(\"u ==>\\n\",u,\"\\n\")\n",
    "\n",
    "z = u * x\n",
    "print(\"z ==>\\n\",z,\"\\n\")\n",
    "\n",
    "z.sum().backward()\n",
    "\n",
    "print(\"x.grad ==>\\n\",x.grad,\"\\n\")\n",
    "print(\"x.grad==u ==>\\n\", x.grad==u ,\"\\n\")"
   ]
  },
  {
   "cell_type": "code",
   "execution_count": 16,
   "metadata": {},
   "outputs": [
    {
     "name": "stdout",
     "output_type": "stream",
     "text": [
      "tensor(-0.8470, requires_grad=True)\n",
      "tensor(True)\n"
     ]
    }
   ],
   "source": [
    "#2.5.4 Computing the Gradient of Python Control Flow\n",
    "\n",
    "def function(a):\n",
    "    b = a * 2\n",
    "    while b.norm(p=2) < 1000: #b.norm(p=2)==>對b做2范數運算\n",
    "        b = b * 2\n",
    "    if b.sum() > 0:\n",
    "        c = b\n",
    "    else:\n",
    "        c = 100 * b\n",
    "    return c\n",
    "\n"
   ]
  },
  {
   "cell_type": "code",
   "execution_count": null,
   "metadata": {},
   "outputs": [],
   "source": [
    "a = torch.randn(size=(), requires_grad=True)\n",
    "print(a)\n",
    "d = function(a)\n",
    "d.backward()\n",
    "\n",
    "print(a.grad == d / a)"
   ]
  }
 ],
 "metadata": {
  "kernelspec": {
   "display_name": "Python 3",
   "language": "python",
   "name": "python3"
  },
  "language_info": {
   "codemirror_mode": {
    "name": "ipython",
    "version": 3
   },
   "file_extension": ".py",
   "mimetype": "text/x-python",
   "name": "python",
   "nbconvert_exporter": "python",
   "pygments_lexer": "ipython3",
   "version": "3.8.3"
  }
 },
 "nbformat": 4,
 "nbformat_minor": 4
}
