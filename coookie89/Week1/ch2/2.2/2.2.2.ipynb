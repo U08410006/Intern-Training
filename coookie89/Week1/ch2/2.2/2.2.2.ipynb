{
 "cells": [
  {
   "cell_type": "code",
   "execution_count": 13,
   "metadata": {},
   "outputs": [
    {
     "name": "stdout",
     "output_type": "stream",
     "text": [
      "   NumRooms Alley\n",
      "0       2.0  Pave\n",
      "1       2.0     2\n",
      "2       4.0     2\n",
      "3       2.0     2\n",
      "   NumRooms Alley\n",
      "0       3.0  Pave\n",
      "1       2.0   NaN\n",
      "2       4.0   NaN\n",
      "3       3.0   NaN\n"
     ]
    }
   ],
   "source": [
    "#處理missing data(NaN)\n",
    "\n",
    "import pandas as pd\n",
    "import os\n",
    "data_file = os.path.join('.', 'data', 'house_tiny.csv')\n",
    "data = pd.read_csv(data_file)\n",
    "\n",
    "inputs, outputs = data.iloc[:, 0:2], data.iloc[:, 2] #用iloc提取column\n",
    "inputs_1 = inputs.fillna(2) #用2取代nan\n",
    "print(inputs_1)\n",
    "\n",
    "inputs_2 = inputs.fillna(inputs.mean()) #用平均值取代nan\n",
    "print(inputs_2)"
   ]
  },
  {
   "cell_type": "code",
   "execution_count": 14,
   "metadata": {},
   "outputs": [
    {
     "name": "stdout",
     "output_type": "stream",
     "text": [
      "   NumRooms  Alley_Pave  Alley_nan\n",
      "0       NaN           1          0\n",
      "1       2.0           0          1\n",
      "2       4.0           0          1\n",
      "3       NaN           0          1\n"
     ]
    }
   ],
   "source": [
    "inputs = pd.get_dummies(inputs, dummy_na=True) #將種類提到標題,用boolean表示\n",
    "print(inputs)"
   ]
  },
  {
   "cell_type": "code",
   "execution_count": null,
   "metadata": {},
   "outputs": [],
   "source": []
  }
 ],
 "metadata": {
  "kernelspec": {
   "display_name": "Python 3",
   "language": "python",
   "name": "python3"
  },
  "language_info": {
   "codemirror_mode": {
    "name": "ipython",
    "version": 3
   },
   "file_extension": ".py",
   "mimetype": "text/x-python",
   "name": "python",
   "nbconvert_exporter": "python",
   "pygments_lexer": "ipython3",
   "version": "3.8.3"
  }
 },
 "nbformat": 4,
 "nbformat_minor": 4
}
