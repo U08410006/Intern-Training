{
 "cells": [
  {
   "cell_type": "code",
   "execution_count": 87,
   "metadata": {},
   "outputs": [],
   "source": [
    "#create a dataset\n",
    "import os\n",
    "os.makedirs(os.path.join('.', 'data'), exist_ok=True)\n",
    "data_file = os.path.join('.', 'data', 'exercise.csv')\n",
    "with open(data_file, 'w') as f:\n",
    "    f.write('name,gender,age,married\\n')  # Column names\n",
    "    f.write('Chako,M,20,N\\n')  # Each row represents a data example\n",
    "    f.write('Chocolate,NaN,21,N\\n')\n",
    "    f.write('Chicken,NaN,13,N\\n')\n",
    "    f.write('Kitchen,M,NaN,Y\\n')\n",
    "    f.write('Mary,F,31,N\\n')\n",
    "    f.write('Kerry,NaN,NaN,N\\n')"
   ]
  },
  {
   "cell_type": "code",
   "execution_count": 88,
   "metadata": {},
   "outputs": [
    {
     "name": "stdout",
     "output_type": "stream",
     "text": [
      "        name gender   age married\n",
      "0      Chako      M  20.0       N\n",
      "1  Chocolate    NaN  21.0       N\n",
      "2    Chicken    NaN  13.0       N\n",
      "3    Kitchen      M   NaN       Y\n",
      "4       Mary      F  31.0       N\n",
      "5      Kerry    NaN   NaN       N\n"
     ]
    }
   ],
   "source": [
    "import pandas as pd\n",
    "data = pd.read_csv(data_file)\n",
    "print(data)"
   ]
  },
  {
   "cell_type": "code",
   "execution_count": 89,
   "metadata": {},
   "outputs": [
    {
     "name": "stdout",
     "output_type": "stream",
     "text": [
      "name       0\n",
      "gender     3\n",
      "age        2\n",
      "married    0\n",
      "dtype: int64\n",
      "3\n"
     ]
    }
   ],
   "source": [
    "m = data.isnull().sum(axis=0) #計算NaN每個col出現的次數\n",
    "print(m)\n",
    "\n",
    "nan_max_num=m.max() #計算NaN出現最多次的數量\n",
    "print (nan_max_num)"
   ]
  },
  {
   "cell_type": "code",
   "execution_count": 90,
   "metadata": {},
   "outputs": [
    {
     "name": "stdout",
     "output_type": "stream",
     "text": [
      "要刪掉的column:  gender\n",
      "\n",
      "刪除後:\n",
      "        name   age married\n",
      "0      Chako  20.0       N\n",
      "1  Chocolate  21.0       N\n",
      "2    Chicken  13.0       N\n",
      "3    Kitchen   NaN       Y\n",
      "4       Mary  31.0       N\n",
      "5      Kerry   NaN       N\n"
     ]
    }
   ],
   "source": [
    "#找出最多NaN的col index,並刪除該column\n",
    "for index in m.index:\n",
    "    if m[index]==nan_max_num:\n",
    "        print (\"要刪掉的column: \",index)\n",
    "        temp=data.drop([index],axis=1)\n",
    "        print(\"\\n刪除後:\")\n",
    "        print (temp)\n"
   ]
  },
  {
   "cell_type": "code",
   "execution_count": 94,
   "metadata": {},
   "outputs": [
    {
     "name": "stdout",
     "output_type": "stream",
     "text": [
      "    age  name_Chako  name_Chicken  name_Chocolate  name_Kerry  name_Kitchen  \\\n",
      "0  20.0           1             0               0           0             0   \n",
      "1  21.0           0             0               1           0             0   \n",
      "2  13.0           0             1               0           0             0   \n",
      "3   NaN           0             0               0           0             1   \n",
      "4  31.0           0             0               0           0             0   \n",
      "5   NaN           0             0               0           1             0   \n",
      "\n",
      "   name_Mary  name_nan  gender_F  gender_M  gender_nan  married_N  married_Y  \\\n",
      "0          0         0         0         1           0          1          0   \n",
      "1          0         0         0         0           1          1          0   \n",
      "2          0         0         0         0           1          1          0   \n",
      "3          0         0         0         1           0          0          1   \n",
      "4          1         0         1         0           0          1          0   \n",
      "5          0         0         0         0           1          1          0   \n",
      "\n",
      "   married_nan  \n",
      "0            0  \n",
      "1            0  \n",
      "2            0  \n",
      "3            0  \n",
      "4            0  \n",
      "5            0  \n",
      "tensor([[20.,  1.,  0.,  0.,  0.,  0.,  0.,  0.,  0.,  1.,  0.,  1.,  0.,  0.],\n",
      "        [21.,  0.,  0.,  1.,  0.,  0.,  0.,  0.,  0.,  0.,  1.,  1.,  0.,  0.],\n",
      "        [13.,  0.,  1.,  0.,  0.,  0.,  0.,  0.,  0.,  0.,  1.,  1.,  0.,  0.],\n",
      "        [nan,  0.,  0.,  0.,  0.,  1.,  0.,  0.,  0.,  1.,  0.,  0.,  1.,  0.],\n",
      "        [31.,  0.,  0.,  0.,  0.,  0.,  1.,  0.,  1.,  0.,  0.,  1.,  0.,  0.],\n",
      "        [nan,  0.,  0.,  0.,  1.,  0.,  0.,  0.,  0.,  0.,  1.,  1.,  0.,  0.]],\n",
      "       dtype=torch.float64)\n"
     ]
    }
   ],
   "source": [
    "#將series轉換成tensor format\n",
    "import torch\n",
    "import numpy as np\n",
    "\n",
    "temp = pd.get_dummies(data, dummy_na=True)\n",
    "print(temp)\n",
    "tensor_format = torch.tensor(temp.values)\n",
    "print(tensor_format)"
   ]
  },
  {
   "cell_type": "code",
   "execution_count": null,
   "metadata": {},
   "outputs": [],
   "source": []
  }
 ],
 "metadata": {
  "kernelspec": {
   "display_name": "Python 3",
   "language": "python",
   "name": "python3"
  },
  "language_info": {
   "codemirror_mode": {
    "name": "ipython",
    "version": 3
   },
   "file_extension": ".py",
   "mimetype": "text/x-python",
   "name": "python",
   "nbconvert_exporter": "python",
   "pygments_lexer": "ipython3",
   "version": "3.8.3"
  }
 },
 "nbformat": 4,
 "nbformat_minor": 4
}
