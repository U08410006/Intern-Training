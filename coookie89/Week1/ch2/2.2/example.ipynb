{
 "cells": [
  {
   "cell_type": "code",
   "execution_count": 1,
   "metadata": {},
   "outputs": [
    {
     "name": "stdout",
     "output_type": "stream",
     "text": [
      "   NumRooms Alley   Price\n",
      "0       NaN  Pave  127500\n",
      "1       2.0   NaN  106000\n",
      "2       4.0   NaN  178100\n",
      "3       NaN   NaN  140000\n",
      "\n"
     ]
    }
   ],
   "source": [
    "#2.2.1\n",
    "\n",
    "import os\n",
    "import torch\n",
    "import pandas as pd\n",
    "\n",
    "#讀取dataset\n",
    "\n",
    "os.makedirs(os.path.join('.', 'data'), exist_ok=True)\n",
    "data_path = os.path.join('.', 'data', 'house_tiny.csv')\n",
    "\n",
    "with open(data_path, 'w', encoding=\"utf-8\") as data_file:\n",
    "    data_file.write('NumRooms,Alley,Price\\n')  # Column names\n",
    "    data_file.write('NA,Pave,127500\\n')  # Each row represents a data example\n",
    "    data_file.write('2,NA,106000\\n')\n",
    "    data_file.write('4,NA,178100\\n')\n",
    "    data_file.write('NA,NA,140000\\n')\n",
    "    \n",
    "data = pd.read_csv(data_path)\n",
    "print(data)\n",
    "print()"
   ]
  },
  {
   "cell_type": "code",
   "execution_count": 2,
   "metadata": {},
   "outputs": [
    {
     "name": "stdout",
     "output_type": "stream",
     "text": [
      "   NumRooms Alley\n",
      "0       2.0  Pave\n",
      "1       2.0     2\n",
      "2       4.0     2\n",
      "3       2.0     2\n",
      "\n",
      "   NumRooms Alley\n",
      "0       3.0  Pave\n",
      "1       2.0   NaN\n",
      "2       4.0   NaN\n",
      "3       3.0   NaN\n",
      "\n",
      "   NumRooms  Alley_Pave  Alley_nan\n",
      "0       NaN           1          0\n",
      "1       2.0           0          1\n",
      "2       4.0           0          1\n",
      "3       NaN           0          1\n",
      "\n"
     ]
    }
   ],
   "source": [
    "#2.2.2\n",
    "\n",
    "inputs, outputs = data.iloc[:, 0:2], data.iloc[:, 2] #用iloc提取column\n",
    "inputs_1 = inputs.fillna(2) #用2取代nan\n",
    "print(inputs_1)\n",
    "print()\n",
    "\n",
    "inputs_2 = inputs.fillna(inputs.mean()) #用平均值取代nan\n",
    "print(inputs_2)\n",
    "print()\n",
    "\n",
    "inputs = pd.get_dummies(inputs, dummy_na=True) #將種類提到標題,用boolean表示\n",
    "print(inputs)\n",
    "print()"
   ]
  },
  {
   "cell_type": "code",
   "execution_count": 4,
   "metadata": {},
   "outputs": [
    {
     "name": "stdout",
     "output_type": "stream",
     "text": [
      "inputs.values==>\n",
      " [[nan  1.  0.]\n",
      " [ 2.  0.  1.]\n",
      " [ 4.  0.  1.]\n",
      " [nan  0.  1.]] \n",
      "\n",
      "outputs.values==>\n",
      " [127500 106000 178100 140000] \n",
      "\n",
      "torch.tensor(inputs.values)==>\n",
      " tensor([[nan, 1., 0.],\n",
      "        [2., 0., 1.],\n",
      "        [4., 0., 1.],\n",
      "        [nan, 0., 1.]], dtype=torch.float64) \n",
      "\n",
      "torch.tensor(outputs.values)==>\n",
      " tensor([127500, 106000, 178100, 140000]) \n",
      "\n"
     ]
    }
   ],
   "source": [
    "#2.2.3\n",
    "\n",
    "\n",
    "print(\"inputs.values==>\\n\",inputs.values,\"\\n\")\n",
    "print(\"outputs.values==>\\n\",outputs.values,\"\\n\")\n",
    "\n",
    "#格式轉換 dataframe->tensor\n",
    "\n",
    "print(\"torch.tensor(inputs.values)==>\\n\",torch.tensor(inputs.values),\"\\n\")\n",
    "print(\"torch.tensor(outputs.values)==>\\n\",torch.tensor(outputs.values),\"\\n\")\n",
    "\n"
   ]
  },
  {
   "cell_type": "code",
   "execution_count": null,
   "metadata": {},
   "outputs": [],
   "source": []
  },
  {
   "cell_type": "code",
   "execution_count": null,
   "metadata": {},
   "outputs": [],
   "source": []
  }
 ],
 "metadata": {
  "kernelspec": {
   "display_name": "Python 3",
   "language": "python",
   "name": "python3"
  },
  "language_info": {
   "codemirror_mode": {
    "name": "ipython",
    "version": 3
   },
   "file_extension": ".py",
   "mimetype": "text/x-python",
   "name": "python",
   "nbconvert_exporter": "python",
   "pygments_lexer": "ipython3",
   "version": "3.8.3"
  }
 },
 "nbformat": 4,
 "nbformat_minor": 4
}
