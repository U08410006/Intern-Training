{
 "cells": [
  {
   "cell_type": "code",
   "execution_count": 1,
   "metadata": {},
   "outputs": [],
   "source": [
    "#3.3 Concise Implementation of Linear Regression\n",
    "#3.2是用自己定義的function, 3.3是直接用套件的api\n",
    "\n",
    "import numpy as np\n",
    "import torch\n",
    "from torch.utils import data\n",
    "from d2l import torch as d2l\n",
    "\n",
    "#3.3.1 Generating the Dataset\n",
    "\n",
    "def synthetic_data(w, b, num_examples):\n",
    "    \"\"\"Generate y = Xw + b + noise.\"\"\"\n",
    "    X = torch.normal(0, 1, (num_examples, len(w))) \n",
    "    # torch.normal(means, std, out=None)從mean跟std的離散正態分佈中抽取隨機數\n",
    "    y = torch.matmul(X, w) + b\n",
    "    y += torch.normal(0, 0.01, y.shape)\n",
    "    return X, y.reshape((-1, 1))\n",
    "\n",
    "true_w = torch.tensor([2, -3.4]) \n",
    "#每個example有2個features(independent variable)\n",
    "#因此data set會是1000*2的matrix\n",
    "\n",
    "true_b = 4.2\n",
    "features, labels = synthetic_data(true_w, true_b, 1000) #產生1000個examples\n",
    " "
   ]
  },
  {
   "cell_type": "code",
   "execution_count": 15,
   "metadata": {},
   "outputs": [],
   "source": [
    "#3.3.2 Reading the Dataset\n",
    "\n",
    "def load_array(data_arrays, batch_size, is_train=True): #is_train:是否希望每跑一次就打亂數據一次\n",
    "    \"\"\"Construct a PyTorch data iterator.\"\"\"\n",
    "    dataset = data.TensorDataset(*data_arrays)\n",
    "    return data.DataLoader(dataset, batch_size, shuffle=is_train)\n",
    "\n",
    "batch_size = 10\n",
    "data_iter = load_array((features, labels), batch_size)"
   ]
  },
  {
   "cell_type": "code",
   "execution_count": 18,
   "metadata": {},
   "outputs": [
    {
     "name": "stdout",
     "output_type": "stream",
     "text": [
      "[tensor([[-0.0158, -1.7598],\n",
      "        [-1.1121, -1.6656],\n",
      "        [ 1.7333,  1.0287],\n",
      "        [ 1.5167,  0.2330],\n",
      "        [ 0.1456,  1.2308],\n",
      "        [ 0.4771, -1.1848],\n",
      "        [-1.0472, -1.4159],\n",
      "        [ 0.5294, -0.8551],\n",
      "        [-1.5126, -0.2875],\n",
      "        [-0.2788, -0.3877]]), tensor([[10.1390],\n",
      "        [ 7.6473],\n",
      "        [ 4.1709],\n",
      "        [ 6.4505],\n",
      "        [ 0.2964],\n",
      "        [ 9.1931],\n",
      "        [ 6.8982],\n",
      "        [ 8.1663],\n",
      "        [ 2.1726],\n",
      "        [ 4.9627]])]\n",
      "[tensor([[ 0.2540,  1.3479],\n",
      "        [ 0.7311,  0.8951],\n",
      "        [-1.1121, -1.6656],\n",
      "        [-0.0827, -0.3859],\n",
      "        [ 0.3451,  0.0022],\n",
      "        [ 0.5348, -0.2349],\n",
      "        [ 0.5509, -1.3352],\n",
      "        [-0.0316, -0.0986],\n",
      "        [-0.1609,  1.8770],\n",
      "        [ 1.7217,  0.4935]]), tensor([[ 0.1351],\n",
      "        [ 2.6002],\n",
      "        [ 7.6473],\n",
      "        [ 5.3458],\n",
      "        [ 4.8910],\n",
      "        [ 6.0582],\n",
      "        [ 9.8453],\n",
      "        [ 4.4640],\n",
      "        [-2.4979],\n",
      "        [ 5.9766]])]\n"
     ]
    }
   ],
   "source": [
    "print(next(iter(data_iter))) #用next獲取項目\n",
    "print(next(iter(data_iter)))"
   ]
  },
  {
   "cell_type": "code",
   "execution_count": 23,
   "metadata": {},
   "outputs": [
    {
     "name": "stdout",
     "output_type": "stream",
     "text": [
      "Sequential(\n",
      "  (0): Linear(in_features=2, out_features=1, bias=True)\n",
      ")\n",
      "Linear(in_features=2, out_features=1, bias=True)\n"
     ]
    }
   ],
   "source": [
    "#3.3.3 Defining the Model\n",
    "\n",
    "# `nn` is an abbreviation for neural networks\n",
    "from torch import nn\n",
    "\n",
    "net = nn.Sequential(nn.Linear(2, 1))\n",
    "print(net)\n",
    "print(net[0])\n"
   ]
  },
  {
   "cell_type": "code",
   "execution_count": 25,
   "metadata": {},
   "outputs": [
    {
     "data": {
      "text/plain": [
       "tensor([0.])"
      ]
     },
     "execution_count": 25,
     "metadata": {},
     "output_type": "execute_result"
    }
   ],
   "source": [
    "#3.3.4 Initializing Model Parameters\n",
    "\n",
    "net[0].weight.data.normal_(0, 0.01)\n",
    "net[0].bias.data.fill_(0)"
   ]
  },
  {
   "cell_type": "code",
   "execution_count": 26,
   "metadata": {},
   "outputs": [],
   "source": [
    "#3.3.5 Defining the Loss Function\n",
    "\n",
    "loss = nn.MSELoss()"
   ]
  },
  {
   "cell_type": "code",
   "execution_count": 27,
   "metadata": {},
   "outputs": [],
   "source": [
    "#3.3.6 Defining the Optimization Algorithm\n",
    "\n",
    "trainer = torch.optim.SGD(net.parameters(), lr=0.03)"
   ]
  },
  {
   "cell_type": "code",
   "execution_count": 32,
   "metadata": {},
   "outputs": [
    {
     "name": "stdout",
     "output_type": "stream",
     "text": [
      "epoch 1, loss 0.000101\n",
      "epoch 2, loss 0.000101\n",
      "epoch 3, loss 0.000104\n"
     ]
    }
   ],
   "source": [
    "#3.3.7 Training\n",
    "\n",
    "num_epochs = 3\n",
    "for epoch in range(num_epochs):\n",
    "    for X, y in data_iter:\n",
    "        l = loss(net(X), y)\n",
    "        trainer.zero_grad()\n",
    "        l.backward()\n",
    "        trainer.step()\n",
    "    l = loss(net(features), labels)\n",
    "    print(f'epoch {epoch + 1}, loss {l:f}')"
   ]
  },
  {
   "cell_type": "code",
   "execution_count": 33,
   "metadata": {},
   "outputs": [
    {
     "name": "stdout",
     "output_type": "stream",
     "text": [
      "error in estimating w: tensor([-0.0002, -0.0020])\n",
      "error in estimating b: tensor([0.0006])\n"
     ]
    }
   ],
   "source": [
    "w = net[0].weight.data\n",
    "print('error in estimating w:', true_w - w.reshape(true_w.shape))\n",
    "b = net[0].bias.data\n",
    "print('error in estimating b:', true_b - b)"
   ]
  },
  {
   "cell_type": "code",
   "execution_count": null,
   "metadata": {},
   "outputs": [],
   "source": []
  }
 ],
 "metadata": {
  "kernelspec": {
   "display_name": "Python 3",
   "language": "python",
   "name": "python3"
  },
  "language_info": {
   "codemirror_mode": {
    "name": "ipython",
    "version": 3
   },
   "file_extension": ".py",
   "mimetype": "text/x-python",
   "name": "python",
   "nbconvert_exporter": "python",
   "pygments_lexer": "ipython3",
   "version": "3.8.3"
  }
 },
 "nbformat": 4,
 "nbformat_minor": 4
}
