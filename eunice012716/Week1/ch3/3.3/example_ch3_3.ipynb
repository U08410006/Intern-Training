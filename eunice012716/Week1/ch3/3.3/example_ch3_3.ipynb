{
 "cells": [
  {
   "cell_type": "code",
   "execution_count": 1,
   "id": "e84a5de2",
   "metadata": {},
   "outputs": [],
   "source": [
    "# 3.3. Concise Implementation of Linear Regression\n",
    "# 3.3.1. Generating the Dataset\n",
    "import numpy as np\n",
    "import torch\n",
    "from torch.utils import data\n",
    "from d2l import torch as d2l\n",
    "\n",
    "true_w = torch.tensor([2, -3.4])\n",
    "true_b = 4.2\n",
    "features, labels = d2l.synthetic_data(true_w, true_b, 1000)"
   ]
  },
  {
   "cell_type": "code",
   "execution_count": 2,
   "id": "685bca61",
   "metadata": {},
   "outputs": [],
   "source": [
    "# 3.3.2. Reading the Dataset\n",
    "def load_array(data_arrays, batch_size, is_train=True):  #@save\n",
    "    \"\"\"Construct a PyTorch data iterator.\"\"\"\n",
    "    dataset = data.TensorDataset(*data_arrays)\n",
    "    return data.DataLoader(dataset, batch_size, shuffle=is_train)\n",
    "\n",
    "batch_size = 10\n",
    "data_iter = load_array((features, labels), batch_size)"
   ]
  },
  {
   "cell_type": "code",
   "execution_count": 3,
   "id": "5ea32c15",
   "metadata": {},
   "outputs": [
    {
     "data": {
      "text/plain": [
       "[tensor([[ 0.5820,  0.6909],\n",
       "         [ 1.4636,  1.1562],\n",
       "         [-0.3112,  2.6986],\n",
       "         [-0.1978,  2.7793],\n",
       "         [ 1.4185,  0.0578],\n",
       "         [-0.4672,  0.3614],\n",
       "         [ 0.2509, -0.5063],\n",
       "         [ 1.9008,  0.6952],\n",
       "         [-0.4126,  0.3238],\n",
       "         [ 1.1261, -0.7751]]),\n",
       " tensor([[ 3.0081],\n",
       "         [ 3.2062],\n",
       "         [-5.5987],\n",
       "         [-5.6459],\n",
       "         [ 6.8579],\n",
       "         [ 2.0318],\n",
       "         [ 6.4144],\n",
       "         [ 5.6387],\n",
       "         [ 2.2802],\n",
       "         [ 9.0957]])]"
      ]
     },
     "execution_count": 3,
     "metadata": {},
     "output_type": "execute_result"
    }
   ],
   "source": [
    "next(iter(data_iter))"
   ]
  },
  {
   "cell_type": "code",
   "execution_count": 4,
   "id": "b4bc29b5",
   "metadata": {},
   "outputs": [],
   "source": [
    "# 3.3.3. Defining the Model\n",
    "# `nn` is an abbreviation for neural networks\n",
    "from torch import nn\n",
    "\n",
    "net = nn.Sequential(nn.Linear(2, 1))\n",
    "# the first one specifies the input feature dimension, which is 2\n",
    "# the second one is the output feature dimension, which is a single scalar and therefore 1"
   ]
  },
  {
   "cell_type": "code",
   "execution_count": 5,
   "id": "f8d39ae2",
   "metadata": {},
   "outputs": [
    {
     "data": {
      "text/plain": [
       "tensor([0.])"
      ]
     },
     "execution_count": 5,
     "metadata": {},
     "output_type": "execute_result"
    }
   ],
   "source": [
    "# 3.3.4. Initializing Model Parameters\n",
    "net[0].weight.data.normal_(0, 0.01) # conform to (0, 0.01) normal distribution\n",
    "net[0].bias.data.fill_(0) # initialize to zeros"
   ]
  },
  {
   "cell_type": "code",
   "execution_count": 6,
   "id": "5d0b9c0b",
   "metadata": {},
   "outputs": [],
   "source": [
    "# 3.3.5. Defining the Loss Function\n",
    "# the MSELoss class computes the mean squared error, also known as squared L2 norm\n",
    "loss = nn.MSELoss()"
   ]
  },
  {
   "cell_type": "code",
   "execution_count": 7,
   "id": "8c31bdff",
   "metadata": {},
   "outputs": [
    {
     "name": "stdout",
     "output_type": "stream",
     "text": [
      "epoch 1, loss 0.000270\n",
      "epoch 2, loss 0.000102\n",
      "epoch 3, loss 0.000100\n"
     ]
    }
   ],
   "source": [
    "# 3.3.6. Defining the Optimization Algorithm\n",
    "# torch.optim is a library realizes many kinds of optimizing algorithms\n",
    "trainer = torch.optim.SGD(net.parameters(), lr=0.03)\n",
    "# net.parameters() specifies the parameters to optimize over \n",
    "# 3.3.7. Training\n",
    "num_epochs = 3\n",
    "for epoch in range(num_epochs):\n",
    "    for X, y in data_iter:\n",
    "        l = loss(net(X), y)\n",
    "        trainer.zero_grad()\n",
    "        l.backward()\n",
    "        trainer.step()\n",
    "    l = loss(net(features), labels)\n",
    "    print(f'epoch {epoch + 1}, loss {l:f}')"
   ]
  },
  {
   "cell_type": "code",
   "execution_count": 8,
   "id": "66922c46",
   "metadata": {},
   "outputs": [
    {
     "name": "stdout",
     "output_type": "stream",
     "text": [
      "error in estimating w: tensor([ 0.0005, -0.0001])\n",
      "error in estimating b: tensor([7.5340e-05])\n"
     ]
    }
   ],
   "source": [
    "w = net[0].weight.data\n",
    "print('error in estimating w:', true_w - w.reshape(true_w.shape))\n",
    "b = net[0].bias.data\n",
    "print('error in estimating b:', true_b - b)"
   ]
  },
  {
   "cell_type": "code",
   "execution_count": null,
   "id": "26aeaf20",
   "metadata": {},
   "outputs": [],
   "source": []
  }
 ],
 "metadata": {
  "kernelspec": {
   "display_name": "Python 3",
   "language": "python",
   "name": "python3"
  },
  "language_info": {
   "codemirror_mode": {
    "name": "ipython",
    "version": 3
   },
   "file_extension": ".py",
   "mimetype": "text/x-python",
   "name": "python",
   "nbconvert_exporter": "python",
   "pygments_lexer": "ipython3",
   "version": "3.8.8"
  }
 },
 "nbformat": 4,
 "nbformat_minor": 5
}
