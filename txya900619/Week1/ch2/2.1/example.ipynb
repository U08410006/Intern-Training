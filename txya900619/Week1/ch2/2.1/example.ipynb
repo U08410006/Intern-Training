{
  "nbformat": 4,
  "nbformat_minor": 2,
  "metadata": {
    "colab": {
      "name": "d2l 2.1.ipynb",
      "provenance": [],
      "collapsed_sections": []
    },
    "kernelspec": {
      "name": "python3",
      "display_name": "Python 3"
    },
    "language_info": {
      "name": "python"
    },
    "accelerator": "GPU"
  },
  "cells": [
    {
      "cell_type": "code",
      "execution_count": null,
      "source": [
        "import torch\n",
        "x = torch.arange(12)\n",
        "x"
      ],
      "outputs": [
        {
          "output_type": "execute_result",
          "data": {
            "text/plain": [
              "tensor([ 0,  1,  2,  3,  4,  5,  6,  7,  8,  9, 10, 11])"
            ]
          },
          "metadata": {
            "tags": []
          },
          "execution_count": 12
        }
      ],
      "metadata": {
        "colab": {
          "base_uri": "https://localhost:8080/"
        },
        "id": "o5jgloVIQG7-",
        "outputId": "1470015e-0499-44f0-e35a-1760f0570061"
      }
    },
    {
      "cell_type": "code",
      "execution_count": null,
      "source": [
        "x.shape"
      ],
      "outputs": [
        {
          "output_type": "execute_result",
          "data": {
            "text/plain": [
              "torch.Size([12])"
            ]
          },
          "metadata": {
            "tags": []
          },
          "execution_count": 13
        }
      ],
      "metadata": {
        "colab": {
          "base_uri": "https://localhost:8080/"
        },
        "id": "yjoTbdK7R8-W",
        "outputId": "b82022b4-741c-43ed-aaf6-f4b9f11831ab"
      }
    },
    {
      "cell_type": "code",
      "execution_count": null,
      "source": [
        "x.numel()"
      ],
      "outputs": [
        {
          "output_type": "execute_result",
          "data": {
            "text/plain": [
              "12"
            ]
          },
          "metadata": {
            "tags": []
          },
          "execution_count": 14
        }
      ],
      "metadata": {
        "colab": {
          "base_uri": "https://localhost:8080/"
        },
        "id": "eQLpKA4ATUmi",
        "outputId": "4cf809e3-6461-4302-f30d-9080b1b478c9"
      }
    },
    {
      "cell_type": "code",
      "execution_count": null,
      "source": [
        "X = x.reshape(3, -1)\n",
        "X"
      ],
      "outputs": [
        {
          "output_type": "execute_result",
          "data": {
            "text/plain": [
              "tensor([[ 0,  1,  2,  3],\n",
              "        [ 4,  5,  6,  7],\n",
              "        [ 8,  9, 10, 11]])"
            ]
          },
          "metadata": {
            "tags": []
          },
          "execution_count": 16
        }
      ],
      "metadata": {
        "colab": {
          "base_uri": "https://localhost:8080/"
        },
        "id": "Izn-QMBWTXej",
        "outputId": "06bbb81f-e68c-49da-cb68-359c80831437"
      }
    },
    {
      "cell_type": "code",
      "execution_count": null,
      "source": [
        "torch.zeros((2,3,4))"
      ],
      "outputs": [
        {
          "output_type": "execute_result",
          "data": {
            "text/plain": [
              "tensor([[[0., 0., 0., 0.],\n",
              "         [0., 0., 0., 0.],\n",
              "         [0., 0., 0., 0.]],\n",
              "\n",
              "        [[0., 0., 0., 0.],\n",
              "         [0., 0., 0., 0.],\n",
              "         [0., 0., 0., 0.]]])"
            ]
          },
          "metadata": {
            "tags": []
          },
          "execution_count": 18
        }
      ],
      "metadata": {
        "colab": {
          "base_uri": "https://localhost:8080/"
        },
        "id": "dExslfyZTdNu",
        "outputId": "68d40342-449c-41ab-8214-62f6533ffd5b"
      }
    },
    {
      "cell_type": "code",
      "execution_count": null,
      "source": [
        "torch.ones((2, 3, 4))"
      ],
      "outputs": [
        {
          "output_type": "execute_result",
          "data": {
            "text/plain": [
              "tensor([[[1., 1., 1., 1.],\n",
              "         [1., 1., 1., 1.],\n",
              "         [1., 1., 1., 1.]],\n",
              "\n",
              "        [[1., 1., 1., 1.],\n",
              "         [1., 1., 1., 1.],\n",
              "         [1., 1., 1., 1.]]])"
            ]
          },
          "metadata": {
            "tags": []
          },
          "execution_count": 19
        }
      ],
      "metadata": {
        "colab": {
          "base_uri": "https://localhost:8080/"
        },
        "id": "Vhou1Pv3ToZg",
        "outputId": "63505084-92e3-44df-feba-41859cfd371d"
      }
    },
    {
      "cell_type": "code",
      "execution_count": null,
      "source": [
        "torch.randn((3,4))"
      ],
      "outputs": [
        {
          "output_type": "execute_result",
          "data": {
            "text/plain": [
              "tensor([[ 0.6227,  0.2609,  0.8619,  0.8166],\n",
              "        [ 0.2193,  0.4706,  0.3624,  0.4656],\n",
              "        [-1.2476,  0.7948, -0.7569,  1.4714]])"
            ]
          },
          "metadata": {
            "tags": []
          },
          "execution_count": 20
        }
      ],
      "metadata": {
        "colab": {
          "base_uri": "https://localhost:8080/"
        },
        "id": "5kTUHLhiT_07",
        "outputId": "b1f953c2-597a-4094-c1be-d54c17955bdf"
      }
    },
    {
      "cell_type": "code",
      "execution_count": null,
      "source": [
        "torch.tensor([[2, 1, 4, 3], [1, 2, 3, 4], [4, 3, 2, 1]])"
      ],
      "outputs": [
        {
          "output_type": "execute_result",
          "data": {
            "text/plain": [
              "tensor([[2, 1, 4, 3],\n",
              "        [1, 2, 3, 4],\n",
              "        [4, 3, 2, 1]])"
            ]
          },
          "metadata": {
            "tags": []
          },
          "execution_count": 21
        }
      ],
      "metadata": {
        "colab": {
          "base_uri": "https://localhost:8080/"
        },
        "id": "yCsG2WhMUQ69",
        "outputId": "cc16ee42-2e73-4e45-cf79-6ec6a41628d4"
      }
    },
    {
      "cell_type": "code",
      "execution_count": null,
      "source": [
        "a = torch.tensor([[1.0, 2, 4, 8]])\n",
        "b = torch.tensor([2,2,2,2])\n",
        "a+b, a-b, a*b, a/b, a**b"
      ],
      "outputs": [
        {
          "output_type": "execute_result",
          "data": {
            "text/plain": [
              "(tensor([[ 3.,  4.,  6., 10.]]),\n",
              " tensor([[-1.,  0.,  2.,  6.]]),\n",
              " tensor([[ 2.,  4.,  8., 16.]]),\n",
              " tensor([[0.5000, 1.0000, 2.0000, 4.0000]]),\n",
              " tensor([[ 1.,  4., 16., 64.]]))"
            ]
          },
          "metadata": {
            "tags": []
          },
          "execution_count": 22
        }
      ],
      "metadata": {
        "colab": {
          "base_uri": "https://localhost:8080/"
        },
        "id": "9TeN2tUqZpcD",
        "outputId": "5d5360ba-67c0-497d-b8be-58dcf03a7a5f"
      }
    },
    {
      "cell_type": "code",
      "execution_count": null,
      "source": [
        "torch.exp(a)"
      ],
      "outputs": [
        {
          "output_type": "execute_result",
          "data": {
            "text/plain": [
              "tensor([[2.7183e+00, 7.3891e+00, 5.4598e+01, 2.9810e+03]])"
            ]
          },
          "metadata": {
            "tags": []
          },
          "execution_count": 23
        }
      ],
      "metadata": {
        "colab": {
          "base_uri": "https://localhost:8080/"
        },
        "id": "X5lI_udtaBhe",
        "outputId": "a79abb6a-7365-4beb-cfd7-44a9c9dfd761"
      }
    },
    {
      "cell_type": "code",
      "execution_count": null,
      "source": [
        "X = torch.arange(12,dtype=torch.float32).reshape(3,-1)\n",
        "Y = torch.tensor([[2.0, 1, 4, 3], [1, 2, 3, 4], [4, 3, 2, 1]])\n",
        "torch.cat((X,Y),dim=0),torch.cat((X,Y), dim=1)"
      ],
      "outputs": [
        {
          "output_type": "execute_result",
          "data": {
            "text/plain": [
              "(tensor([[ 0.,  1.,  2.,  3.],\n",
              "         [ 4.,  5.,  6.,  7.],\n",
              "         [ 8.,  9., 10., 11.],\n",
              "         [ 2.,  1.,  4.,  3.],\n",
              "         [ 1.,  2.,  3.,  4.],\n",
              "         [ 4.,  3.,  2.,  1.]]),\n",
              " tensor([[ 0.,  1.,  2.,  3.,  2.,  1.,  4.,  3.],\n",
              "         [ 4.,  5.,  6.,  7.,  1.,  2.,  3.,  4.],\n",
              "         [ 8.,  9., 10., 11.,  4.,  3.,  2.,  1.]]))"
            ]
          },
          "metadata": {
            "tags": []
          },
          "execution_count": 32
        }
      ],
      "metadata": {
        "colab": {
          "base_uri": "https://localhost:8080/"
        },
        "id": "HaprO04bcDva",
        "outputId": "56d85d3f-7bf4-4f0c-97c5-ec97efc50205"
      }
    },
    {
      "cell_type": "code",
      "execution_count": null,
      "source": [
        "X == Y"
      ],
      "outputs": [
        {
          "output_type": "execute_result",
          "data": {
            "text/plain": [
              "tensor([[False,  True, False,  True],\n",
              "        [False, False, False, False],\n",
              "        [False, False, False, False]])"
            ]
          },
          "metadata": {
            "tags": []
          },
          "execution_count": 25
        }
      ],
      "metadata": {
        "colab": {
          "base_uri": "https://localhost:8080/"
        },
        "id": "SQij9Y8ncriL",
        "outputId": "48fae4b6-7219-492d-a791-275353828c10"
      }
    },
    {
      "cell_type": "code",
      "execution_count": null,
      "source": [
        "X.sum()"
      ],
      "outputs": [
        {
          "output_type": "execute_result",
          "data": {
            "text/plain": [
              "tensor(66.)"
            ]
          },
          "metadata": {
            "tags": []
          },
          "execution_count": 26
        }
      ],
      "metadata": {
        "colab": {
          "base_uri": "https://localhost:8080/"
        },
        "id": "pYk6Q8M_cwSp",
        "outputId": "19a54077-90e9-4252-c85c-5f0e6df02038"
      }
    },
    {
      "cell_type": "code",
      "execution_count": null,
      "source": [
        "a = torch.arange(3).reshape(-1,1)\n",
        "b = torch.arange(2).reshape(1,-1)\n",
        "a,b"
      ],
      "outputs": [
        {
          "output_type": "execute_result",
          "data": {
            "text/plain": [
              "(tensor([[0],\n",
              "         [1],\n",
              "         [2]]), tensor([[0, 1]]))"
            ]
          },
          "metadata": {
            "tags": []
          },
          "execution_count": 30
        }
      ],
      "metadata": {
        "colab": {
          "base_uri": "https://localhost:8080/"
        },
        "id": "OfXXy9krcx6H",
        "outputId": "0b417ff1-e486-4fee-c140-e6571b392a74"
      }
    },
    {
      "cell_type": "code",
      "execution_count": null,
      "source": [
        "a+b"
      ],
      "outputs": [
        {
          "output_type": "execute_result",
          "data": {
            "text/plain": [
              "tensor([[0, 1],\n",
              "        [1, 2],\n",
              "        [2, 3]])"
            ]
          },
          "metadata": {
            "tags": []
          },
          "execution_count": 31
        }
      ],
      "metadata": {
        "colab": {
          "base_uri": "https://localhost:8080/"
        },
        "id": "aneWIpLEd7Fl",
        "outputId": "345e0b10-271b-465c-a20f-5d1efd1b46dc"
      }
    },
    {
      "cell_type": "code",
      "execution_count": null,
      "source": [
        "X[-1],X[1:3]"
      ],
      "outputs": [
        {
          "output_type": "execute_result",
          "data": {
            "text/plain": [
              "(tensor([ 8.,  9., 10., 11.]), tensor([[ 4.,  5.,  6.,  7.],\n",
              "         [ 8.,  9., 10., 11.]]))"
            ]
          },
          "metadata": {
            "tags": []
          },
          "execution_count": 33
        }
      ],
      "metadata": {
        "colab": {
          "base_uri": "https://localhost:8080/"
        },
        "id": "C1qQ7XIuearl",
        "outputId": "7e3ce676-a27d-4739-e0d7-ac952cd99b7e"
      }
    },
    {
      "cell_type": "code",
      "execution_count": null,
      "source": [
        "X[1, 2] = 9\n",
        "X"
      ],
      "outputs": [
        {
          "output_type": "execute_result",
          "data": {
            "text/plain": [
              "tensor([[ 0.,  1.,  2.,  3.],\n",
              "        [ 4.,  5.,  9.,  7.],\n",
              "        [ 8.,  9., 10., 11.]])"
            ]
          },
          "metadata": {
            "tags": []
          },
          "execution_count": 34
        }
      ],
      "metadata": {
        "colab": {
          "base_uri": "https://localhost:8080/"
        },
        "id": "sWEQzzibeqSJ",
        "outputId": "c9de94f8-9a1a-4a91-c4fd-ed1be4470513"
      }
    },
    {
      "cell_type": "code",
      "execution_count": null,
      "source": [
        "X[0:2,:] = 12\n",
        "X"
      ],
      "outputs": [
        {
          "output_type": "execute_result",
          "data": {
            "text/plain": [
              "tensor([[12., 12., 12., 12.],\n",
              "        [12., 12., 12., 12.],\n",
              "        [ 8.,  9., 10., 11.]])"
            ]
          },
          "metadata": {
            "tags": []
          },
          "execution_count": 36
        }
      ],
      "metadata": {
        "colab": {
          "base_uri": "https://localhost:8080/"
        },
        "id": "AZ1E1Kv5e-IE",
        "outputId": "cffdd89d-ec1b-4920-9f1b-2f14d9bab22c"
      }
    },
    {
      "cell_type": "code",
      "execution_count": null,
      "source": [
        "before = id(Y)\n",
        "Y = Y+X\n",
        "id(Y) == before"
      ],
      "outputs": [
        {
          "output_type": "execute_result",
          "data": {
            "text/plain": [
              "False"
            ]
          },
          "metadata": {
            "tags": []
          },
          "execution_count": 37
        }
      ],
      "metadata": {
        "colab": {
          "base_uri": "https://localhost:8080/"
        },
        "id": "YNgONPO7gA6a",
        "outputId": "b27366a7-6500-4561-e195-a5da10eb601b"
      }
    },
    {
      "cell_type": "code",
      "execution_count": null,
      "source": [
        "Z = torch.zeros_like(Y)\n",
        "print(id(Z))\n",
        "Z[:] = X+Y\n",
        "print(id(Z))"
      ],
      "outputs": [
        {
          "output_type": "stream",
          "name": "stdout",
          "text": [
            "140615690356288\n",
            "140615690356288\n"
          ]
        }
      ],
      "metadata": {
        "colab": {
          "base_uri": "https://localhost:8080/"
        },
        "id": "qD3ORQwLhG0w",
        "outputId": "9f8f0f91-cc1e-4350-a581-fe3c7fdbee3b"
      }
    },
    {
      "cell_type": "code",
      "execution_count": null,
      "source": [
        "before = id(X)\n",
        "X += Y\n",
        "id(X) == before"
      ],
      "outputs": [
        {
          "output_type": "execute_result",
          "data": {
            "text/plain": [
              "True"
            ]
          },
          "metadata": {
            "tags": []
          },
          "execution_count": 40
        }
      ],
      "metadata": {
        "colab": {
          "base_uri": "https://localhost:8080/"
        },
        "id": "Dp1UDQpvhS_3",
        "outputId": "b07ce702-9590-4ed2-8cd2-099a25f40055"
      }
    },
    {
      "cell_type": "code",
      "execution_count": null,
      "source": [
        "A = X.numpy()\n",
        "B = torch.tensor(A)\n",
        "type(A), type(B)"
      ],
      "outputs": [
        {
          "output_type": "execute_result",
          "data": {
            "text/plain": [
              "(numpy.ndarray, torch.Tensor)"
            ]
          },
          "metadata": {
            "tags": []
          },
          "execution_count": 41
        }
      ],
      "metadata": {
        "colab": {
          "base_uri": "https://localhost:8080/"
        },
        "id": "Oac2pqtCjueD",
        "outputId": "97e950cb-d39a-44a8-b1ce-f977bc6dd280"
      }
    },
    {
      "cell_type": "code",
      "execution_count": null,
      "source": [
        "a = torch.tensor([3.5])\n",
        "a, a.item(), int(a), float(a)"
      ],
      "outputs": [
        {
          "output_type": "execute_result",
          "data": {
            "text/plain": [
              "(tensor([3.5000]), 3.5, 3, 3.5)"
            ]
          },
          "metadata": {
            "tags": []
          },
          "execution_count": 42
        }
      ],
      "metadata": {
        "colab": {
          "base_uri": "https://localhost:8080/"
        },
        "id": "or0FSkBRmbG9",
        "outputId": "c889a28b-8586-45ff-a32f-a68868332043"
      }
    }
  ]
}